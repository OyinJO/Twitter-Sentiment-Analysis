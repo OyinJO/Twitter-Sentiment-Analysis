{
 "cells": [
  {
   "cell_type": "code",
   "execution_count": 1,
   "metadata": {},
   "outputs": [],
   "source": [
    "import torch\n",
    "import torch.nn as nn\n",
    "SEED=42\n",
    "torch.manual_seed(SEED)\n",
    "import torch.nn.functional as F\n",
    "import torchtext\n",
    "from torchtext.data.utils import get_tokenizer\n",
    "from torchtext.legacy import data\n",
    "from sklearn.model_selection import train_test_split\n",
    "from torch.utils.data import DataLoader, Dataset\n",
    "import matplotlib.pyplot as plt\n",
    "import numpy as np\n",
    "from collections import Counter"
   ]
  },
  {
   "cell_type": "markdown",
   "metadata": {},
   "source": [
    "Dataset obtained from kaggle https://www.kaggle.com/kosweet/cleaned-emotion-extraction-dataset-from-twitter downloaded and saved as 'DLdataset.csv'\n"
   ]
  },
  {
   "cell_type": "code",
   "execution_count": 2,
   "metadata": {},
   "outputs": [],
   "source": [
    "df=pd.read_csv('DLdataset.csv')\n"
   ]
  },
  {
   "cell_type": "code",
   "execution_count": 3,
   "metadata": {},
   "outputs": [
    {
     "data": {
      "text/plain": [
       "Index(['Emotion', 'Content', 'Original Content'], dtype='object')"
      ]
     },
     "execution_count": 3,
     "metadata": {},
     "output_type": "execute_result"
    }
   ],
   "source": [
    "df.columns"
   ]
  },
  {
   "cell_type": "code",
   "execution_count": 4,
   "metadata": {},
   "outputs": [
    {
     "data": {
      "text/html": [
       "<div>\n",
       "<style scoped>\n",
       "    .dataframe tbody tr th:only-of-type {\n",
       "        vertical-align: middle;\n",
       "    }\n",
       "\n",
       "    .dataframe tbody tr th {\n",
       "        vertical-align: top;\n",
       "    }\n",
       "\n",
       "    .dataframe thead th {\n",
       "        text-align: right;\n",
       "    }\n",
       "</style>\n",
       "<table border=\"1\" class=\"dataframe\">\n",
       "  <thead>\n",
       "    <tr style=\"text-align: right;\">\n",
       "      <th></th>\n",
       "      <th>Emotion</th>\n",
       "      <th>Content</th>\n",
       "      <th>Original Content</th>\n",
       "    </tr>\n",
       "  </thead>\n",
       "  <tbody>\n",
       "    <tr>\n",
       "      <th>0</th>\n",
       "      <td>disappointed</td>\n",
       "      <td>oh fuck did i wrote fil grinningfacewithsweat ...</td>\n",
       "      <td>b'RT @Davbingodav: @mcrackins Oh fuck.... did ...</td>\n",
       "    </tr>\n",
       "    <tr>\n",
       "      <th>1</th>\n",
       "      <td>disappointed</td>\n",
       "      <td>i feel nor am i shamed by it</td>\n",
       "      <td>i feel nor am i shamed by it</td>\n",
       "    </tr>\n",
       "    <tr>\n",
       "      <th>2</th>\n",
       "      <td>disappointed</td>\n",
       "      <td>i had been feeling a little bit defeated by th...</td>\n",
       "      <td>i had been feeling a little bit defeated by th...</td>\n",
       "    </tr>\n",
       "    <tr>\n",
       "      <th>3</th>\n",
       "      <td>happy</td>\n",
       "      <td>imagine if that reaction guy that called jj kf...</td>\n",
       "      <td>b\"@KSIOlajidebt imagine if that reaction guy t...</td>\n",
       "    </tr>\n",
       "    <tr>\n",
       "      <th>4</th>\n",
       "      <td>disappointed</td>\n",
       "      <td>i wouldnt feel burdened so that i would live m...</td>\n",
       "      <td>i wouldnt feel burdened so that i would live m...</td>\n",
       "    </tr>\n",
       "  </tbody>\n",
       "</table>\n",
       "</div>"
      ],
      "text/plain": [
       "        Emotion                                            Content  \\\n",
       "0  disappointed  oh fuck did i wrote fil grinningfacewithsweat ...   \n",
       "1  disappointed                       i feel nor am i shamed by it   \n",
       "2  disappointed  i had been feeling a little bit defeated by th...   \n",
       "3         happy  imagine if that reaction guy that called jj kf...   \n",
       "4  disappointed  i wouldnt feel burdened so that i would live m...   \n",
       "\n",
       "                                    Original Content  \n",
       "0  b'RT @Davbingodav: @mcrackins Oh fuck.... did ...  \n",
       "1                       i feel nor am i shamed by it  \n",
       "2  i had been feeling a little bit defeated by th...  \n",
       "3  b\"@KSIOlajidebt imagine if that reaction guy t...  \n",
       "4  i wouldnt feel burdened so that i would live m...  "
      ]
     },
     "execution_count": 4,
     "metadata": {},
     "output_type": "execute_result"
    }
   ],
   "source": [
    "df.head()"
   ]
  },
  {
   "cell_type": "code",
   "execution_count": 5,
   "metadata": {},
   "outputs": [
    {
     "data": {
      "text/plain": [
       "disappointed    313714\n",
       "happy           301871\n",
       "angry           300990\n",
       "Name: Emotion, dtype: int64"
      ]
     },
     "execution_count": 5,
     "metadata": {},
     "output_type": "execute_result"
    }
   ],
   "source": [
    "df.Emotion.value_counts()"
   ]
  },
  {
   "cell_type": "code",
   "execution_count": 6,
   "metadata": {},
   "outputs": [],
   "source": [
    "#this feature is not needed so it's removed\n",
    "df.drop('Original Content', axis=1, inplace=True)"
   ]
  },
  {
   "cell_type": "markdown",
   "metadata": {},
   "source": [
    "# Data Prep"
   ]
  },
  {
   "cell_type": "code",
   "execution_count": 7,
   "metadata": {},
   "outputs": [],
   "source": [
    "df['Emotion'] = df['Emotion'].map({'disappointed': 1, 'happy': 0, 'angry': 2})"
   ]
  },
  {
   "cell_type": "code",
   "execution_count": null,
   "metadata": {},
   "outputs": [],
   "source": []
  },
  {
   "cell_type": "markdown",
   "metadata": {},
   "source": [
    "## Tokenizer and Vocab creation"
   ]
  },
  {
   "cell_type": "code",
   "execution_count": 8,
   "metadata": {},
   "outputs": [],
   "source": [
    "tokenizer = get_tokenizer(\"basic_english\")\n",
    "  "
   ]
  },
  {
   "cell_type": "code",
   "execution_count": 9,
   "metadata": {},
   "outputs": [],
   "source": [
    "counter=Counter()\n",
    "for index, row in df.iterrows():\n",
    "    counter.update(tokenizer(row['Content']))\n",
    "   "
   ]
  },
  {
   "cell_type": "code",
   "execution_count": 10,
   "metadata": {},
   "outputs": [
    {
     "name": "stdout",
     "output_type": "stream",
     "text": [
      "num_words before: 168963\n",
      "num_words after removal: 72459\n"
     ]
    }
   ],
   "source": [
    "#remove all unique words\n",
    "print(\"num_words before:\",len(counter.keys()))\n",
    "for word in list(counter):\n",
    "    if counter[word] < 2:\n",
    "        del counter[word]\n",
    "print(\"num_words after removal:\",len(counter.keys()))"
   ]
  },
  {
   "cell_type": "code",
   "execution_count": 11,
   "metadata": {},
   "outputs": [],
   "source": [
    "#creating vocabulary\n",
    "vocab2index = {\"\":0, \"UNK\":1}\n",
    "words = [\"\", \"UNK\"]\n",
    "for word in counter:\n",
    "    vocab2index[word] = len(words)\n",
    "    words.append(word)"
   ]
  },
  {
   "cell_type": "code",
   "execution_count": 13,
   "metadata": {},
   "outputs": [],
   "source": [
    "#method to transform text to numerics\n",
    "def encoder(text, vocab2index, N=70):\n",
    "    tokenized = tokenizer(text)\n",
    "    encoded = np.zeros(N, dtype=int)\n",
    "    enc1 = np.array([vocab2index.get(word, vocab2index[\"UNK\"]) for word in tokenized])\n",
    "    length = min(N, len(enc1))\n",
    "    encoded[:length] = enc1[:length]\n",
    "    return encoded, length"
   ]
  },
  {
   "cell_type": "code",
   "execution_count": 14,
   "metadata": {},
   "outputs": [
    {
     "name": "stderr",
     "output_type": "stream",
     "text": [
      "C:\\Users\\oyino\\Anaconda3\\lib\\site-packages\\ipykernel_launcher.py:2: VisibleDeprecationWarning: Creating an ndarray from ragged nested sequences (which is a list-or-tuple of lists-or-tuples-or ndarrays with different lengths or shapes) is deprecated. If you meant to do this, you must specify 'dtype=object' when creating the ndarray\n",
      "  \n"
     ]
    },
    {
     "data": {
      "text/html": [
       "<div>\n",
       "<style scoped>\n",
       "    .dataframe tbody tr th:only-of-type {\n",
       "        vertical-align: middle;\n",
       "    }\n",
       "\n",
       "    .dataframe tbody tr th {\n",
       "        vertical-align: top;\n",
       "    }\n",
       "\n",
       "    .dataframe thead th {\n",
       "        text-align: right;\n",
       "    }\n",
       "</style>\n",
       "<table border=\"1\" class=\"dataframe\">\n",
       "  <thead>\n",
       "    <tr style=\"text-align: right;\">\n",
       "      <th></th>\n",
       "      <th>Emotion</th>\n",
       "      <th>Content</th>\n",
       "      <th>encoded</th>\n",
       "    </tr>\n",
       "  </thead>\n",
       "  <tbody>\n",
       "    <tr>\n",
       "      <th>0</th>\n",
       "      <td>1</td>\n",
       "      <td>oh fuck did i wrote fil grinningfacewithsweat ...</td>\n",
       "      <td>[[2, 3, 4, 5, 6, 7, 8, 9, 10, 11, 0, 0, 0, 0, ...</td>\n",
       "    </tr>\n",
       "    <tr>\n",
       "      <th>1</th>\n",
       "      <td>1</td>\n",
       "      <td>i feel nor am i shamed by it</td>\n",
       "      <td>[[5, 12, 13, 14, 5, 15, 16, 17, 0, 0, 0, 0, 0,...</td>\n",
       "    </tr>\n",
       "    <tr>\n",
       "      <th>2</th>\n",
       "      <td>1</td>\n",
       "      <td>i had been feeling a little bit defeated by th...</td>\n",
       "      <td>[[5, 18, 19, 20, 21, 22, 23, 24, 16, 25, 26, 2...</td>\n",
       "    </tr>\n",
       "    <tr>\n",
       "      <th>3</th>\n",
       "      <td>0</td>\n",
       "      <td>imagine if that reaction guy that called jj kf...</td>\n",
       "      <td>[[38, 39, 40, 41, 42, 40, 43, 44, 45, 46, 47, ...</td>\n",
       "    </tr>\n",
       "    <tr>\n",
       "      <th>4</th>\n",
       "      <td>1</td>\n",
       "      <td>i wouldnt feel burdened so that i would live m...</td>\n",
       "      <td>[[5, 54, 12, 55, 56, 40, 5, 30, 57, 48, 58, 21...</td>\n",
       "    </tr>\n",
       "  </tbody>\n",
       "</table>\n",
       "</div>"
      ],
      "text/plain": [
       "   Emotion                                            Content  \\\n",
       "0        1  oh fuck did i wrote fil grinningfacewithsweat ...   \n",
       "1        1                       i feel nor am i shamed by it   \n",
       "2        1  i had been feeling a little bit defeated by th...   \n",
       "3        0  imagine if that reaction guy that called jj kf...   \n",
       "4        1  i wouldnt feel burdened so that i would live m...   \n",
       "\n",
       "                                             encoded  \n",
       "0  [[2, 3, 4, 5, 6, 7, 8, 9, 10, 11, 0, 0, 0, 0, ...  \n",
       "1  [[5, 12, 13, 14, 5, 15, 16, 17, 0, 0, 0, 0, 0,...  \n",
       "2  [[5, 18, 19, 20, 21, 22, 23, 24, 16, 25, 26, 2...  \n",
       "3  [[38, 39, 40, 41, 42, 40, 43, 44, 45, 46, 47, ...  \n",
       "4  [[5, 54, 12, 55, 56, 40, 5, 30, 57, 48, 58, 21...  "
      ]
     },
     "execution_count": 14,
     "metadata": {},
     "output_type": "execute_result"
    }
   ],
   "source": [
    "#transforms all sentences in the dataframe to numerics\n",
    "df['encoded'] = df['Content'].apply(lambda x: np.array(encoder(x,vocab2index )))\n",
    "df.head()"
   ]
  },
  {
   "cell_type": "markdown",
   "metadata": {},
   "source": [
    "## Data Splitting"
   ]
  },
  {
   "cell_type": "code",
   "execution_count": 15,
   "metadata": {},
   "outputs": [],
   "source": [
    "X = list(df['encoded'])\n",
    "y = list(df['Emotion'])\n"
   ]
  },
  {
   "cell_type": "code",
   "execution_count": 16,
   "metadata": {},
   "outputs": [],
   "source": [
    "#split into train, validation ant test set\n",
    "X_train, X_test, y_train, y_test = train_test_split(X, y, test_size=0.2, random_state=1)\n",
    "X_train, X_valid, y_train, y_valid = train_test_split(X_train, y_train, test_size=0.25, random_state=1) # 0.25 x 0.8 = 0.2"
   ]
  },
  {
   "cell_type": "code",
   "execution_count": 17,
   "metadata": {},
   "outputs": [],
   "source": [
    "class TextDataset(Dataset):\n",
    "    def __init__(self, X, Y):\n",
    "        self.X = X\n",
    "        self.y = Y\n",
    "        \n",
    "    def __len__(self):\n",
    "        return len(self.y)\n",
    "    \n",
    "    def __getitem__(self, idx):\n",
    "        return torch.from_numpy(self.X[idx][0].astype(np.int32)), self.y[idx], self.X[idx][1]"
   ]
  },
  {
   "cell_type": "code",
   "execution_count": 25,
   "metadata": {},
   "outputs": [],
   "source": [
    "train_set = TextDataset(X_train, y_train)\n",
    "valid_set =TextDataset(X_valid, y_valid)\n",
    "test_set = TextDataset(X_test, y_test)\n"
   ]
  },
  {
   "cell_type": "code",
   "execution_count": 26,
   "metadata": {},
   "outputs": [],
   "source": [
    "#define hyperparameters\n",
    "batch_size = 5000\n",
    "vocab_size = len(words)\n",
    "n_classes=3\n",
    "train_dl = DataLoader(train_set, batch_size=batch_size, shuffle=True)\n",
    "val_dl = DataLoader(valid_set, batch_size=batch_size)\n",
    "test_dl = DataLoader(test_set, batch_size=batch_size)"
   ]
  },
  {
   "cell_type": "code",
   "execution_count": 27,
   "metadata": {},
   "outputs": [],
   "source": [
    "#check whether cuda is available\n",
    "device = torch.device('cuda' if torch.cuda.is_available() else 'cpu')  "
   ]
  },
  {
   "cell_type": "markdown",
   "metadata": {},
   "source": [
    "# Train and Evaluation functions"
   ]
  },
  {
   "cell_type": "code",
   "execution_count": 48,
   "metadata": {},
   "outputs": [],
   "source": [
    "def train_model(model, epochs, lr, weightPath):\n",
    "    #no of trainable parameters\n",
    "    parameters = filter(lambda p: p.requires_grad, model.parameters())\n",
    "    optimizer = torch.optim.Adam(parameters, lr=lr)\n",
    "    \n",
    "    train_acc_list=[]\n",
    "    val_acc_list=[]\n",
    "    \n",
    "    for i in range(epochs):\n",
    "        #set the model in train phase\n",
    "        model.train()\n",
    "        sum_loss = 0.0\n",
    "        total = 0\n",
    "        correct=0\n",
    "        \n",
    "        \n",
    "        for data, target, masks in train_dl:\n",
    "            data= data.long()\n",
    "            target = target.long()\n",
    "            \n",
    "            y_pred = model(data, masks)\n",
    "            pred = torch.max(y_pred, 1)[1]\n",
    "            correct += (pred == target).float().sum()\n",
    "            optimizer.zero_grad()\n",
    "            #compute the loss\n",
    "            loss = F.cross_entropy(y_pred, target)\n",
    "            #back propagate the loss ad compute the gradients\n",
    "            loss.backward()\n",
    "            \n",
    "            #update the weights\n",
    "            optimizer.step()\n",
    "            sum_loss += loss.item()*target.shape[0]\n",
    "            total += target.shape[0]\n",
    "        val_loss, val_acc= val(model, val_dl)\n",
    "        train_acc=correct/total\n",
    "        train_loss=sum_loss/total\n",
    "        \n",
    "        if i % 5 == 1:\n",
    "            print(\"train loss %.3f, val loss %.3f, train accuracy %.3f, and val accuracy %.3f\" % (train_loss, val_loss, train_acc, val_acc))\n",
    "            train_acc_list.append(train_acc)\n",
    "            val_acc_list.append(val_acc)\n",
    "            #save the model\n",
    "            torch.save(model.state_dict(), weightPath)\n",
    "            \n",
    "    return train_acc_list, val_acc_list"
   ]
  },
  {
   "cell_type": "code",
   "execution_count": 29,
   "metadata": {},
   "outputs": [],
   "source": [
    "def val(model, valid_dl):\n",
    "    #deactivate dropout layers\n",
    "    model.eval()\n",
    "    correct = 0\n",
    "    total = 0\n",
    "    sum_loss = 0.0\n",
    "\n",
    "    #deactivate autograd\n",
    "    with torch.no_grad():\n",
    "        for data, target, masks in valid_dl:\n",
    "            data = data.long()\n",
    "            target = target.long()\n",
    "            #make prediction\n",
    "            y_pred = model(data, masks)\n",
    "            \n",
    "            #compute loss\n",
    "            loss = F.cross_entropy(y_pred, target)\n",
    "            pred = torch.max(y_pred, 1)[1]\n",
    "            correct += (pred == target).float().sum()\n",
    "            total += target.shape[0]\n",
    "            sum_loss += loss.item()*target.shape[0]\n",
    "            \n",
    "    return sum_loss/total, correct/total"
   ]
  },
  {
   "cell_type": "code",
   "execution_count": 30,
   "metadata": {},
   "outputs": [],
   "source": [
    "#method to plot accuracy of a model\n",
    "def plot_training(total_train_acc, total_test_acc,filePath, title):\n",
    "    plt.plot(range(0,30,5), total_train_acc, label='Training Accuracy')\n",
    "    plt.plot(range(0,30,5), total_test_acc, label='Validation Accuracy')\n",
    "    plt.title(title)\n",
    "    plt.xlabel('Epochs')\n",
    "    plt.ylabel('Accuracy')\n",
    "    plt.legend()\n",
    "    plt.savefig(filePath)\n",
    "    plt.show()"
   ]
  },
  {
   "cell_type": "markdown",
   "metadata": {},
   "source": [
    "# CNN Training"
   ]
  },
  {
   "cell_type": "code",
   "execution_count": 32,
   "metadata": {},
   "outputs": [],
   "source": [
    "    \n",
    "class CNN_model(nn.Module):    \n",
    "    def __init__(self, vocab_size, embedding_dim, n_classes):\n",
    "        #constructor\n",
    "        super().__init__()\n",
    "        \n",
    "        #embedding layer\n",
    "        self.embedding = nn.Embedding(vocab_size, embedding_dim, padding_idx=0)\n",
    "        \n",
    "        filter_sizes = [1,2,3,5]\n",
    "        num_filters = 36\n",
    "        \n",
    "        #convolution layer\n",
    "        self.convs1 = nn.ModuleList([nn.Conv2d(\n",
    "            in_channels=1, \n",
    "            out_channels=num_filters, \n",
    "            kernel_size=(K, embedding_dim)) for K in filter_sizes])\n",
    "        \n",
    "        #dense layer\n",
    "        self.fc1 = nn.Linear(len(filter_sizes)*num_filters, n_classes)\n",
    "        self.dropout = nn.Dropout(0.1)\n",
    "      \n",
    "    def forward(self, text, l):\n",
    "        text = self.embedding(text)  \n",
    "        text = text.unsqueeze(1)  \n",
    "        text = [F.relu(conv(text)).squeeze(3) for conv in self.convs1] \n",
    "        text = [F.max_pool1d(i, i.size(2)).squeeze(2) for i in text]  \n",
    "        cat= self.dropout(torch.cat(text,1))\n",
    "        return self.fc1(cat)"
   ]
  },
  {
   "cell_type": "code",
   "execution_count": 33,
   "metadata": {},
   "outputs": [],
   "source": [
    "#instantiate the CNN model\n",
    "model_cnn=CNN_model(vocab_size, 50,n_classes)"
   ]
  },
  {
   "cell_type": "code",
   "execution_count": 34,
   "metadata": {},
   "outputs": [],
   "source": [
    "#push to cuda if available\n",
    "model_cnn = model_cnn.to(device)"
   ]
  },
  {
   "cell_type": "code",
   "execution_count": 37,
   "metadata": {},
   "outputs": [
    {
     "name": "stdout",
     "output_type": "stream",
     "text": [
      "train loss 0.504, val loss 0.413, train accuracy 0.783, and val accuracy 0.836\n",
      "train loss 0.239, val loss 0.252, train accuracy 0.902, and val accuracy 0.895\n",
      "train loss 0.205, val loss 0.241, train accuracy 0.916, and val accuracy 0.900\n",
      "train loss 0.185, val loss 0.242, train accuracy 0.925, and val accuracy 0.901\n",
      "train loss 0.169, val loss 0.247, train accuracy 0.932, and val accuracy 0.901\n",
      "train loss 0.157, val loss 0.255, train accuracy 0.938, and val accuracy 0.901\n"
     ]
    }
   ],
   "source": [
    "#train and evaluate CNN model\n",
    "train_acc_cnn, valid_acc_cnn=train_model(model_cnn, epochs=30, lr=0.001, weightPath='cnn_saved_weights.pt')"
   ]
  },
  {
   "cell_type": "code",
   "execution_count": 47,
   "metadata": {},
   "outputs": [
    {
     "data": {
      "image/png": "[encoded data removed]",
      "text/plain": [
       "<Figure size 432x288 with 1 Axes>"
      ]
     },
     "metadata": {
      "needs_background": "light"
     },
     "output_type": "display_data"
    }
   ],
   "source": [
    "plot_training(train_acc_cnn, valid_acc_cnn, 'dlcnn_eval.png', 'CNN Training and Validation Accuracy')"
   ]
  },
  {
   "cell_type": "markdown",
   "metadata": {},
   "source": [
    "# LSTM Training"
   ]
  },
  {
   "cell_type": "code",
   "execution_count": 42,
   "metadata": {},
   "outputs": [],
   "source": [
    "class LSTM_model(nn.Module) :\n",
    "    def __init__(self, vocab_size, embedding_dim, hidden_dim,n_classes, dropout) :\n",
    "        #constructor\n",
    "        super().__init__()\n",
    "        #embedding layer\n",
    "        self.embeddings = nn.Embedding(vocab_size, embedding_dim, padding_idx=0)\n",
    "        #lstm layer\n",
    "        self.lstm = nn.LSTM(embedding_dim, hidden_dim, batch_first=True)\n",
    "        #dense layer\n",
    "        self.linear = nn.Linear(hidden_dim, 3)\n",
    "        self.dropout = nn.Dropout(dropout)\n",
    "        \n",
    "    def forward(self, x, l):\n",
    "        x = self.embeddings(x)\n",
    "        x = self.dropout(x)\n",
    "        lstm_out, (ht, ct) = self.lstm(x)\n",
    "        return self.linear(ht[-1])"
   ]
  },
  {
   "cell_type": "code",
   "execution_count": 43,
   "metadata": {},
   "outputs": [],
   "source": [
    "#instantiate the LSTM model\n",
    "model_lstm =  LSTM_model(vocab_size, 50, 50,n_classes, 0.2)"
   ]
  },
  {
   "cell_type": "code",
   "execution_count": 44,
   "metadata": {},
   "outputs": [],
   "source": [
    "#push to cuda if available\n",
    "model_lstm = model_lstm.to(device)"
   ]
  },
  {
   "cell_type": "code",
   "execution_count": 49,
   "metadata": {},
   "outputs": [
    {
     "name": "stdout",
     "output_type": "stream",
     "text": [
      "train loss 0.418, val loss 0.325, train accuracy 0.837, and val accuracy 0.873\n",
      "train loss 0.200, val loss 0.220, train accuracy 0.917, and val accuracy 0.908\n",
      "train loss 0.167, val loss 0.222, train accuracy 0.930, and val accuracy 0.909\n",
      "train loss 0.147, val loss 0.239, train accuracy 0.938, and val accuracy 0.907\n",
      "train loss 0.134, val loss 0.255, train accuracy 0.943, and val accuracy 0.906\n",
      "train loss 0.125, val loss 0.264, train accuracy 0.947, and val accuracy 0.907\n"
     ]
    }
   ],
   "source": [
    "#train and evaluate LSTM model\n",
    "train_acc_lstm, valid_acc_lstm=train_model(model_lstm, epochs=30, lr=0.01,weightPath='lstm_saved_weights.pt')"
   ]
  },
  {
   "cell_type": "code",
   "execution_count": 51,
   "metadata": {},
   "outputs": [
    {
     "data": {
      "image/png": "[encoded data removed]",
      "text/plain": [
       "<Figure size 432x288 with 1 Axes>"
      ]
     },
     "metadata": {
      "needs_background": "light"
     },
     "output_type": "display_data"
    }
   ],
   "source": [
    "#plot LSTM accuracy\n",
    "plot_training(train_acc_lstm, valid_acc_lstm, 'dlLstm_eval.png', 'LSTM Training and Validation Accuracy')"
   ]
  },
  {
   "cell_type": "markdown",
   "metadata": {},
   "source": [
    "# Test Set Evaluation"
   ]
  },
  {
   "cell_type": "markdown",
   "metadata": {},
   "source": [
    "LSTM produced a slightly better accuracy score so will be used for the test set evaluation."
   ]
  },
  {
   "cell_type": "code",
   "execution_count": 53,
   "metadata": {},
   "outputs": [],
   "source": [
    "def test(model, test_loader):\n",
    "    model.eval()\n",
    "    correct=0\n",
    "    total=0\n",
    "    preds=[]\n",
    "    #deactivate autograds\n",
    "    with torch.no_grad():\n",
    "        for data, label, batch_idx in test_loader:\n",
    "            data = data.long()\n",
    "            label = label.long()\n",
    "            #predict the class\n",
    "            y_hat=model(data, batch_idx)\n",
    "            pred=torch.max(y_hat, 1)[1]\n",
    "            correct += (pred == label).float().sum()\n",
    "            total += label.shape[0]\n",
    "   \n",
    "    acc = correct/total\n",
    "    return acc"
   ]
  },
  {
   "cell_type": "code",
   "execution_count": 55,
   "metadata": {},
   "outputs": [],
   "source": [
    "#path='cnn_saved_weights.pt'\n",
    "#model_cnn.load_state_dict(torch.load(path));"
   ]
  },
  {
   "cell_type": "code",
   "execution_count": 56,
   "metadata": {},
   "outputs": [
    {
     "data": {
      "text/plain": [
       "tensor(0.9015)"
      ]
     },
     "execution_count": 56,
     "metadata": {},
     "output_type": "execute_result"
    }
   ],
   "source": [
    "#test(model_cnn, test_dl)"
   ]
  },
  {
   "cell_type": "code",
   "execution_count": 57,
   "metadata": {},
   "outputs": [],
   "source": [
    "path='lstm_saved_weights.pt'\n",
    "model_lstm.load_state_dict(torch.load(path));"
   ]
  },
  {
   "cell_type": "code",
   "execution_count": 58,
   "metadata": {},
   "outputs": [
    {
     "data": {
      "text/plain": [
       "tensor(0.9073)"
      ]
     },
     "execution_count": 58,
     "metadata": {},
     "output_type": "execute_result"
    }
   ],
   "source": [
    "test(model_lstm, test_dl)"
   ]
  },
  {
   "cell_type": "code",
   "execution_count": null,
   "metadata": {},
   "outputs": [],
   "source": []
  }
 ],
 "metadata": {
  "kernelspec": {
   "display_name": "Python 3",
   "language": "python",
   "name": "python3"
  },
  "language_info": {
   "codemirror_mode": {
    "name": "ipython",
    "version": 3
   },
   "file_extension": ".py",
   "mimetype": "text/x-python",
   "name": "python",
   "nbconvert_exporter": "python",
   "pygments_lexer": "ipython3",
   "version": "3.7.3"
  }
 },
 "nbformat": 4,
 "nbformat_minor": 2
}
